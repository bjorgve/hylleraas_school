{
 "cells": [
  {
   "cell_type": "code",
   "execution_count": null,
   "id": "159691ad-3d4d-4a3c-a569-69a7ddbefab5",
   "metadata": {},
   "outputs": [],
   "source": [
    "from vampyr import vampyr3d as vp\n",
    "import numpy as np\n",
    "import matplotlib.pyplot as plt"
   ]
  },
  {
   "cell_type": "markdown",
   "id": "67f58b41-ea16-40ed-b8fe-7c8a7885802f",
   "metadata": {},
   "source": [
    "# Scaling and wavelet functions"
   ]
  },
  {
   "cell_type": "markdown",
   "id": "badfbf2c-21b5-4787-aafd-2b3dcc8750a7",
   "metadata": {},
   "source": [
    "First we need to select our scaling functions $\\{\\phi_i\\}_{i=0}^k$. In general we choose or scaling functions $\\phi_i$to be either [Legendre Polynomials](https://en.wikipedia.org/wiki/Legendre_polynomials) or [Interpolating Polynomials](https://en.wikipedia.org/wiki/Polynomial_interpolation). I'll use Legendre Polynomials in these examples."
   ]
  },
  {
   "cell_type": "code",
   "execution_count": null,
   "id": "2d6c7768-22c1-49d0-953c-cc4260aca2da",
   "metadata": {},
   "outputs": [],
   "source": [
    "from vampyr import LegendreBasis\n",
    "\n",
    "basis_set = LegendreBasis(5)\n",
    "scaling = basis_set.scaling\n",
    "\n",
    "\n",
    "x = np.arange(0.0, 1.0, 0.001)\n",
    "y = [scaling(i=1)([_]) for _ in x]\n",
    "plt.plot(x, y)"
   ]
  },
  {
   "cell_type": "code",
   "execution_count": null,
   "id": "b6a62fdb-b382-4e9c-ad0e-f362217a368f",
   "metadata": {},
   "outputs": [],
   "source": [
    "x = np.arange(0.0, 1.0, 0.001)\n",
    "for i in range(6):\n",
    "    y = [scaling(i=i)([x]) for x in x]\n",
    "    plt.plot(x, y)"
   ]
  },
  {
   "cell_type": "markdown",
   "id": "450a6092-c8d3-40c2-acfc-cf9a053f5506",
   "metadata": {},
   "source": [
    "Let's have a MultiResolution of of these scaling functions, we do this by dilation and translation\n",
    "\n",
    "\\begin{align}\n",
    "    \\phi_{i, l}^n(x) &= 2^{n/2} \\phi_i(2^nx - l)\n",
    "\\end{align}"
   ]
  },
  {
   "cell_type": "code",
   "execution_count": null,
   "id": "a10e24ab-9691-4c9a-8704-29c03f23d99f",
   "metadata": {},
   "outputs": [],
   "source": [
    "x = np.arange(0.0, 1.0, 0.001)\n",
    "y = [scaling(i=i, l=2, n=4)([x]) for x in x]\n",
    "plt.plot(x, y)"
   ]
  },
  {
   "cell_type": "markdown",
   "id": "ed3582e2-1401-4f9b-afc5-b48342961d86",
   "metadata": {},
   "source": [
    "Now let's introduce our wavelet functions $\\psi_{i, l}^n$. They are connected to the scaling functions through the two-scale difference relation:\n",
    "\n",
    "\\begin{align}\n",
    "\\phi_i(x) = \\sqrt{2} \\sum_j h^{(0)}_{ij} \\phi_j(2x) + h^{(1)}_{ij} \\phi_j(2x-1) \\\\\n",
    "\\psi_i(x) = \\sqrt{2} \\sum_j g^{(0)}_{ij} \\phi_j(2x) + g^{(1)}_{ij} \\phi_j(2x-1) \\\\\n",
    "\\end{align}\n"
   ]
  },
  {
   "cell_type": "code",
   "execution_count": null,
   "id": "62d5f493-4807-4cba-9b17-785a4b5ce1ec",
   "metadata": {},
   "outputs": [],
   "source": [
    "wavelet = basis_set.wavelet\n",
    "\n",
    "\n",
    "x = np.arange(0.001, 1.0, 0.01)\n",
    "y = [wavelet(i=2)([_]) for _ in x]\n",
    "plt.plot(x, y)"
   ]
  },
  {
   "cell_type": "code",
   "execution_count": null,
   "id": "4f6be0df-c413-4ad0-9a44-74cadf739764",
   "metadata": {},
   "outputs": [],
   "source": [
    "x = np.arange(0.0, 1.0, 0.001)\n",
    "for i in range(6):\n",
    "    y = [wavelet(i=i, n=0)([x]) for x in x]\n",
    "    plt.plot(x, y)"
   ]
  },
  {
   "cell_type": "code",
   "execution_count": null,
   "id": "032a6587-7082-40c5-9ff6-e91b5289f583",
   "metadata": {},
   "outputs": [],
   "source": [
    "x = np.arange(0.0, 1.0, 0.001)\n",
    "y = [wavelet(i=3, l=0, n=1)([x]) for x in x]\n",
    "plt.plot(x, y)"
   ]
  },
  {
   "cell_type": "markdown",
   "id": "0a474fe5-5dde-4c33-a3b7-dd3234ff5068",
   "metadata": {},
   "source": [
    "# Scaling Projectors\n",
    "\n",
    "\n",
    "Let's introduce the Scaling Projectior $P^n_k$. This operator projects the function $f$ onto the\n",
    "scaling basis $\\{\\phi_{j,l}^n\\}$. I.e.,\n",
    "\n",
    "\\begin{align}\n",
    "f^n(x) = P^n_k [f(x)] = \\sum_{l=0}^{2^n-1} \\sum_{j=0}^k s_{j, l}^{n,f} \\phi_{j,l}^n(x) \n",
    "\\end{align}\n",
    "\n",
    "\n",
    "Let's use it and plot some functions"
   ]
  },
  {
   "cell_type": "markdown",
   "id": "2301c0e0-c3e0-4049-b958-d2ce0c906ffa",
   "metadata": {},
   "source": [
    "We begin with making an analytical gaussian function"
   ]
  },
  {
   "cell_type": "code",
   "execution_count": null,
   "id": "e770d05b-eae3-4fad-9e15-a88806ecd9a0",
   "metadata": {},
   "outputs": [],
   "source": [
    "from vampyr import vampyr3d as vp\n",
    "\n",
    "r0 = [0.8, 0.8, 0.8]\n",
    "beta = 100.0 # Do 100 and 1000000\n",
    "alpha = (beta / np.pi) ** (3 / 2.0)\n",
    "f = vp.GaussFunc(coef=alpha, exp=beta, pos=r0)\n",
    "\n",
    "# PS: They will show a better way to do analytical functions during the exercises."
   ]
  },
  {
   "cell_type": "code",
   "execution_count": null,
   "id": "75ba2a7d-09bc-4cab-ba03-b91f117139d5",
   "metadata": {},
   "outputs": [],
   "source": [
    "mra = vp.MultiResolutionAnalysis(box=[0, 2], order=5)\n",
    "\n",
    "P0 = vp.ScalingProjector(mra, 0) # P^0_k\n",
    "P1 = vp.ScalingProjector(mra, 1) # P^1_k\n",
    "P2 = vp.ScalingProjector(mra, 2) # P^2_k\n",
    "P3 = vp.ScalingProjector(mra, 3) # P^3_k\n",
    "P4 = vp.ScalingProjector(mra, 4) # P^4_k\n",
    "\n",
    "f0 = P0(f) #f^0 = P^0_k[f]\n",
    "f1 = P1(f) #f^1 = P^1_k[f]\n",
    "f2 = P2(f) #f^2 = P^2_k[f]\n",
    "f3 = P3(f) #f^3 = P^3_k[f]\n",
    "f4 = P4(f) #f^4 = P^4_k[f]"
   ]
  },
  {
   "cell_type": "markdown",
   "id": "d26bd59a-8e93-4e77-8054-aa6dcd85a848",
   "metadata": {},
   "source": [
    "Next let's show you what the basis we project onto looks like"
   ]
  },
  {
   "cell_type": "code",
   "execution_count": null,
   "id": "cc5530b9-0163-455f-8b84-8e1f97cf4a11",
   "metadata": {},
   "outputs": [],
   "source": [
    "n = 0\n",
    "x = np.arange(0.0, 1.0, 0.001)\n",
    "for l in range(2**n):\n",
    "    for i in range(6):\n",
    "        y = [scaling(i=i, l=l, n=n)([x]) for x in x]\n",
    "        plt.plot(x, y)"
   ]
  },
  {
   "cell_type": "code",
   "execution_count": null,
   "id": "16c3806c-37df-4a32-8084-6d3603f01be8",
   "metadata": {},
   "outputs": [],
   "source": [
    "from plot_diff import plot_f_fn\n",
    "\n",
    "plot_f_fn(0, f, f0, alpha*1.1)"
   ]
  },
  {
   "cell_type": "code",
   "execution_count": null,
   "id": "4992f74f-5902-4a47-94a3-2d1898bf74d9",
   "metadata": {},
   "outputs": [],
   "source": [
    "plot_f_fn(1, f, f1, alpha*1.1)"
   ]
  },
  {
   "cell_type": "code",
   "execution_count": null,
   "id": "a434fe1a-8b98-474a-b109-8076795872b8",
   "metadata": {},
   "outputs": [],
   "source": [
    "plot_f_fn(2, f, f2, alpha*1.1)"
   ]
  },
  {
   "cell_type": "markdown",
   "id": "12d40122-1291-4fdd-a9fd-85859e1d60b3",
   "metadata": {},
   "source": [
    "# Wavelet Projectors\n",
    "\n",
    "\n",
    "Next let's introduce the Wavelet Projector $Q^n_k$. This operator projects the function $f$ onto the\n",
    "wavelet basis $\\{\\psi_{j,l}^n\\}$. I.e.,\n",
    "\n",
    "\\begin{align}\n",
    "df^n(x) = Q^n_k [f(x)] = \\sum_{l=0}^{2^n-1} \\sum_{j=0}^k w_{j, l}^{n,f} \\psi_{j,l}^n(x) \n",
    "\\end{align}\n",
    "\n",
    "\n",
    "The Wavelet Projector $Q^n_k$ is related to the Scaling Projector $P^n_k$ through the relation \n",
    "\n",
    "\\begin{align}\n",
    "P^{n+1}_k = P^n_k + Q^n_k\n",
    "\\end{align}\n",
    "\n",
    "This leads to the following relation\n",
    "\n",
    "\\begin{align}\n",
    "P^{n+1}_k = P^0_k + Q^n_k + Q^{n-1}_k +... + Q^0_k\n",
    "\\end{align}\n",
    "\n",
    "\n",
    "Which means we can write the function projection $f^N$ as \n",
    "\n",
    "\n",
    "\\begin{align}\n",
    "f^N(x) = P^0_k [f(x)] + \\sum_{n=0}^N Q^n_k [f(x)]\n",
    "\\end{align}\n"
   ]
  },
  {
   "cell_type": "code",
   "execution_count": null,
   "id": "f9589c8e-e935-4a05-ae42-bbb3010b393e",
   "metadata": {},
   "outputs": [],
   "source": [
    "Q0 = vp.WaveletProjector(mra, 0) # Q^0_k\n",
    "Q1 = vp.WaveletProjector(mra, 1) # Q^1_k\n",
    "Q2 = vp.WaveletProjector(mra, 2) # Q^2_k\n",
    "Q3 = vp.WaveletProjector(mra, 3) # Q^3_k\n",
    "Q4 = vp.WaveletProjector(mra, 4) # Q^4_k\n",
    "\n",
    "df0 = Q0(f) #df^0 = Q^0_k[f]\n",
    "df1 = Q1(f) #df^0 = Q^0_k[f]\n",
    "df2 = Q2(f) #df^0 = Q^0_k[f]\n",
    "df3 = Q3(f) #df^0 = Q^0_k[f]\n",
    "df4 = Q4(f) #df^0 = Q^0_k[f]"
   ]
  },
  {
   "cell_type": "code",
   "execution_count": null,
   "id": "cf64c9a9-e39b-4cef-9829-9f351d8e5bf3",
   "metadata": {},
   "outputs": [],
   "source": [
    "from plot_diff import plot_fn_df\n",
    "plot_fn_df(0, f0, df0, alpha)"
   ]
  },
  {
   "cell_type": "code",
   "execution_count": null,
   "id": "59d10f23-2be7-48c8-bddc-95ce8f7c7df1",
   "metadata": {},
   "outputs": [],
   "source": [
    "plot_fn_df(1, f1, df1, alpha)"
   ]
  },
  {
   "cell_type": "code",
   "execution_count": null,
   "id": "b9004f59-ad72-4f75-90a5-acd03bb9a89b",
   "metadata": {},
   "outputs": [],
   "source": [
    "plot_fn_df(2, f2, df2, alpha)"
   ]
  },
  {
   "cell_type": "markdown",
   "id": "c42ce5d2-fe07-450c-a2cc-13444da1c51c",
   "metadata": {},
   "source": [
    "Next, we can try to look at some Adaptivity. Luca mentioned that we have very good error control,\n",
    "this can be employed to drastically reduce the work we need to do on our functions, while at the same time have high precision\n",
    "\n",
    "This is what happens when we apply adaptivity to our projector"
   ]
  },
  {
   "cell_type": "code",
   "execution_count": null,
   "id": "7327e81d-6ef5-4be4-b002-863409a9abbf",
   "metadata": {},
   "outputs": [],
   "source": [
    "r0 = [0.8, 0.8, 0.8]\n",
    "beta = 500.0 # Do 500 then compare with P4\n",
    "alpha = (beta / np.pi) ** (3 / 2.0)\n",
    "f = vp.GaussFunc(coef=alpha, exp=beta, pos=r0)\n",
    "\n",
    "P_eps = vp.ScalingProjector(mra, prec=1.0e-3)\n",
    "P2 = vp.ScalingProjector(mra, 2)\n",
    "P4 = vp.ScalingProjector(mra, 4)\n",
    "f_eps = P_eps(f)\n",
    "f2 = P2(f)\n",
    "f4 = P4(f)\n",
    "\n",
    "x = np.arange(0.0, 2.0, 0.001)\n",
    "y = [f2([x, 0.8, 0.8]) for x in x]\n",
    "plt.plot(x, y)"
   ]
  },
  {
   "cell_type": "code",
   "execution_count": null,
   "id": "c381c611-0162-4f32-85e6-1ebf9a321a63",
   "metadata": {},
   "outputs": [],
   "source": [
    "print(f2)"
   ]
  },
  {
   "cell_type": "code",
   "execution_count": null,
   "id": "efecc8bb-b35a-4efd-a55b-9fa7bb49916c",
   "metadata": {},
   "outputs": [],
   "source": [
    "print(f_eps)"
   ]
  },
  {
   "cell_type": "code",
   "execution_count": null,
   "id": "3229e112-b355-4916-98dd-bc11f3c3fc8b",
   "metadata": {},
   "outputs": [],
   "source": [
    "from grid_plotter import grid_plotter\n",
    "\n",
    "# Uniform grid (DO f2 not f4, you'll blow up your laptop)\n",
    "grid_plotter(f2)"
   ]
  },
  {
   "cell_type": "code",
   "execution_count": null,
   "id": "537d1ce0-54ee-4a47-8731-f77e743854aa",
   "metadata": {},
   "outputs": [],
   "source": [
    "grid_plotter(f_eps)"
   ]
  }
 ],
 "metadata": {
  "kernelspec": {
   "display_name": "Python 3 (ipykernel)",
   "language": "python",
   "name": "python3"
  },
  "language_info": {
   "codemirror_mode": {
    "name": "ipython",
    "version": 3
   },
   "file_extension": ".py",
   "mimetype": "text/x-python",
   "name": "python",
   "nbconvert_exporter": "python",
   "pygments_lexer": "ipython3",
   "version": "3.9.7"
  }
 },
 "nbformat": 4,
 "nbformat_minor": 5
}
